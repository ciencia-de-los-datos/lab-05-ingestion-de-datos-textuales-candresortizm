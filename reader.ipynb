{
 "cells": [
  {
   "cell_type": "code",
   "execution_count": 38,
   "metadata": {},
   "outputs": [],
   "source": [
    "import glob\n",
    "import pandas as pd\n",
    "\n",
    "def load_dataframe(input_directory):\n",
    "    filenames = glob.glob(f\"{input_directory}/**/*.txt\")\n",
    "    df = pd.DataFrame(columns=[\"phrase\",\"sentiment\"])\n",
    "    for filename in filenames:\n",
    "        license_file = open(filename, mode=\"r\")\n",
    "        line = license_file.readline()\n",
    "        data_name = input_directory+\"_dataset\"\n",
    "        df.loc[len(df.index)] = [line, filename.split(\"\\\\\")[1]] \n",
    "        license_file.close()\n",
    "    df.to_csv(data_name+'.csv', index=False) \n",
    "\n",
    "load_dataframe(\"train\")"
   ]
  }
 ],
 "metadata": {
  "kernelspec": {
   "display_name": "Python 3",
   "language": "python",
   "name": "python3"
  },
  "language_info": {
   "codemirror_mode": {
    "name": "ipython",
    "version": 3
   },
   "file_extension": ".py",
   "mimetype": "text/x-python",
   "name": "python",
   "nbconvert_exporter": "python",
   "pygments_lexer": "ipython3",
   "version": "3.11.5"
  }
 },
 "nbformat": 4,
 "nbformat_minor": 2
}
